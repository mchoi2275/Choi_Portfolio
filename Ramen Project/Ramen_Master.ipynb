{
 "cells": [
  {
   "cell_type": "markdown",
   "metadata": {},
   "source": [
    "# Ramen Noodles"
   ]
  },
  {
   "cell_type": "markdown",
   "metadata": {},
   "source": [
    "The purpose of this project is to give an exploratory analysis on Ramen Noodles. The source of the data set is from https://www.theramenrater.com/resources-2/the-list/, which is a blogging website that reviews ramen noodles. The project will mainly consist of observing the data set and providing solutions & graphs of possible questions that may arise from analyzing the data set.\n",
    "\n",
    "Q1. What are the Top 10 Manufacturers of Noodles?\n",
    "\n",
    "Q2. What are the Top 5 Products from each Brand?\n",
    "\n",
    "Q3. What is the Average Rating of each Brand?\n",
    "\n",
    "Q4. What is the Average Rating for each Style of Noodle?\n",
    "\n",
    "Q5. Which Product Style is Popular among each Brand?\n",
    "\n",
    "Q6. Which Style of Noodles is Popular among Countries for each Brand?\n",
    "\n",
    "Final Observation\n"
   ]
  },
  {
   "cell_type": "code",
   "execution_count": 1,
   "metadata": {},
   "outputs": [],
   "source": [
    "# Import Python Libraries\n",
    "import numpy\n",
    "import pandas\n",
    "import seaborn\n",
    "import matplotlib.pyplot as plt\n",
    "import matplotlib.dates as mdates\n",
    "%matplotlib inline"
   ]
  },
  {
   "cell_type": "code",
   "execution_count": 2,
   "metadata": {},
   "outputs": [
    {
     "data": {
      "text/html": [
       "<div>\n",
       "<style scoped>\n",
       "    .dataframe tbody tr th:only-of-type {\n",
       "        vertical-align: middle;\n",
       "    }\n",
       "\n",
       "    .dataframe tbody tr th {\n",
       "        vertical-align: top;\n",
       "    }\n",
       "\n",
       "    .dataframe thead th {\n",
       "        text-align: right;\n",
       "    }\n",
       "</style>\n",
       "<table border=\"1\" class=\"dataframe\">\n",
       "  <thead>\n",
       "    <tr style=\"text-align: right;\">\n",
       "      <th></th>\n",
       "      <th>Review #</th>\n",
       "      <th>Brand</th>\n",
       "      <th>Variety</th>\n",
       "      <th>Style</th>\n",
       "      <th>Country</th>\n",
       "      <th>Stars</th>\n",
       "    </tr>\n",
       "  </thead>\n",
       "  <tbody>\n",
       "    <tr>\n",
       "      <th>0</th>\n",
       "      <td>3400</td>\n",
       "      <td>EDO Pack</td>\n",
       "      <td>Kumamoto Flavour Noodles</td>\n",
       "      <td>Cup</td>\n",
       "      <td>Hong Kong</td>\n",
       "      <td>1</td>\n",
       "    </tr>\n",
       "    <tr>\n",
       "      <th>1</th>\n",
       "      <td>3399</td>\n",
       "      <td>Pan Mee</td>\n",
       "      <td>Goreng Dried Chili Shrimp Flavour</td>\n",
       "      <td>Pack</td>\n",
       "      <td>Malaysia</td>\n",
       "      <td>5</td>\n",
       "    </tr>\n",
       "    <tr>\n",
       "      <th>2</th>\n",
       "      <td>3398</td>\n",
       "      <td>Paldo</td>\n",
       "      <td>King Lid Ramen Noodle Soup</td>\n",
       "      <td>Pack</td>\n",
       "      <td>South Korea</td>\n",
       "      <td>5</td>\n",
       "    </tr>\n",
       "    <tr>\n",
       "      <th>3</th>\n",
       "      <td>3397</td>\n",
       "      <td>Nissin Miojo</td>\n",
       "      <td>Cremoso Carno Com Chili</td>\n",
       "      <td>Pack</td>\n",
       "      <td>Brazil</td>\n",
       "      <td>2</td>\n",
       "    </tr>\n",
       "    <tr>\n",
       "      <th>4</th>\n",
       "      <td>3396</td>\n",
       "      <td>Samyang Foods</td>\n",
       "      <td>Cham Ramen Big Bowl</td>\n",
       "      <td>Bowl</td>\n",
       "      <td>South Korea</td>\n",
       "      <td>2.25</td>\n",
       "    </tr>\n",
       "    <tr>\n",
       "      <th>5</th>\n",
       "      <td>3395</td>\n",
       "      <td>Maruchan</td>\n",
       "      <td>Akai Kitsune Yakiudon</td>\n",
       "      <td>Tray</td>\n",
       "      <td>Japan</td>\n",
       "      <td>2</td>\n",
       "    </tr>\n",
       "    <tr>\n",
       "      <th>6</th>\n",
       "      <td>3394</td>\n",
       "      <td>Nissin</td>\n",
       "      <td>Top Ramen Soy Sauce Bowl</td>\n",
       "      <td>Bowl</td>\n",
       "      <td>United States</td>\n",
       "      <td>3</td>\n",
       "    </tr>\n",
       "    <tr>\n",
       "      <th>7</th>\n",
       "      <td>3393</td>\n",
       "      <td>Nissin</td>\n",
       "      <td>Anpanman Soy Sauce Flavor Cup Noodle</td>\n",
       "      <td>Cup</td>\n",
       "      <td>Japan</td>\n",
       "      <td>3.5</td>\n",
       "    </tr>\n",
       "    <tr>\n",
       "      <th>8</th>\n",
       "      <td>3392</td>\n",
       "      <td>Wu Mu</td>\n",
       "      <td>Mandashi Mala Spicy Noodle</td>\n",
       "      <td>Box</td>\n",
       "      <td>Taiwan</td>\n",
       "      <td>5</td>\n",
       "    </tr>\n",
       "    <tr>\n",
       "      <th>9</th>\n",
       "      <td>3391</td>\n",
       "      <td>Marutai</td>\n",
       "      <td>Boh Ramen Shoyu Aji</td>\n",
       "      <td>Pack</td>\n",
       "      <td>Japan</td>\n",
       "      <td>5</td>\n",
       "    </tr>\n",
       "  </tbody>\n",
       "</table>\n",
       "</div>"
      ],
      "text/plain": [
       "   Review #          Brand                               Variety Style  \\\n",
       "0      3400       EDO Pack              Kumamoto Flavour Noodles   Cup   \n",
       "1      3399        Pan Mee     Goreng Dried Chili Shrimp Flavour  Pack   \n",
       "2      3398          Paldo            King Lid Ramen Noodle Soup  Pack   \n",
       "3      3397   Nissin Miojo               Cremoso Carno Com Chili  Pack   \n",
       "4      3396  Samyang Foods                   Cham Ramen Big Bowl  Bowl   \n",
       "5      3395       Maruchan                 Akai Kitsune Yakiudon  Tray   \n",
       "6      3394         Nissin              Top Ramen Soy Sauce Bowl  Bowl   \n",
       "7      3393         Nissin  Anpanman Soy Sauce Flavor Cup Noodle   Cup   \n",
       "8      3392          Wu Mu            Mandashi Mala Spicy Noodle   Box   \n",
       "9      3391        Marutai                   Boh Ramen Shoyu Aji  Pack   \n",
       "\n",
       "         Country Stars  \n",
       "0      Hong Kong     1  \n",
       "1       Malaysia     5  \n",
       "2    South Korea     5  \n",
       "3         Brazil     2  \n",
       "4    South Korea  2.25  \n",
       "5          Japan     2  \n",
       "6  United States     3  \n",
       "7          Japan   3.5  \n",
       "8         Taiwan     5  \n",
       "9          Japan     5  "
      ]
     },
     "execution_count": 2,
     "metadata": {},
     "output_type": "execute_result"
    }
   ],
   "source": [
    "# Import Ramen Data Set from ramen.csv & display the top 10 data inside \n",
    "#the csv to ensure that it is successful\n",
    "\n",
    "ramen_data = pandas.read_csv('ramen.csv')\n",
    "ramen_data.head(10)"
   ]
  },
  {
   "cell_type": "code",
   "execution_count": 3,
   "metadata": {},
   "outputs": [],
   "source": [
    "# To clean the dataset by filtering our ratings that contain strings or irregular values & converts\n",
    "#all values in the Stars column into floating\n",
    "\n",
    "ramen_data = ramen_data[ramen_data['Stars']!='Unrated']  \n",
    "ramen_data = ramen_data[ramen_data['Stars']!='NR']\n",
    "ramen_data['Stars'] = ramen_data['Stars'].apply(lambda x:x.split('/')[0])\n",
    "ramen_data['Stars'] = pandas.to_numeric(ramen_data['Stars'])"
   ]
  },
  {
   "cell_type": "code",
   "execution_count": 4,
   "metadata": {},
   "outputs": [
    {
     "data": {
      "text/plain": [
       "Nissin             460\n",
       "Maruchan           120\n",
       "Nongshim           113\n",
       "Myojo               96\n",
       "Samyang Foods       92\n",
       "Paldo               76\n",
       "Mama                71\n",
       "Indomie             56\n",
       "Sapporo Ichiban     54\n",
       "Ottogi              47\n",
       "Name: Brand, dtype: int64"
      ]
     },
     "execution_count": 4,
     "metadata": {},
     "output_type": "execute_result"
    }
   ],
   "source": [
    "# Tallys up the number of brands and sorts by ascending order and displaying the top 10 brands\n",
    "\n",
    "ramBrandTopTen = ramen_data['Brand'].value_counts().head(10)\n",
    "ramBrandTopTen"
   ]
  },
  {
   "cell_type": "markdown",
   "metadata": {},
   "source": [
    "# Q1. What are the Top 10 Manufacturers of Noodles?"
   ]
  },
  {
   "cell_type": "markdown",
   "metadata": {},
   "source": [
    "According to the bar graph, the manufacturer that produces the most products, and by a large margin compared to their competitors, is Nissin. Meanwhile other manufacturers have a closer margin of products between each other with an average of 118.5 products per manufacturer."
   ]
  },
  {
   "cell_type": "code",
   "execution_count": 5,
   "metadata": {},
   "outputs": [
    {
     "data": {
      "image/png": "[encoded data removed]",
      "text/plain": [
       "<Figure size 360x360 with 1 Axes>"
      ]
     },
     "metadata": {
      "needs_background": "light"
     },
     "output_type": "display_data"
    }
   ],
   "source": [
    "#Display a barplot of the Top 10 Noodle Manufacturers\n",
    "\n",
    "fig, ax = plt.subplots(figsize=(5,5))\n",
    "seaborn.barplot(ramBrandTopTen.index, ramBrandTopTen)\n",
    "ax.set(xlabel = 'Brands', ylabel = 'Number of Products per Brand')\n",
    "plt.title('Top 10 Noodle Manufacturers')\n",
    "plt.xticks(rotation = 'vertical')\n",
    "plt.show()"
   ]
  },
  {
   "cell_type": "code",
   "execution_count": 6,
   "metadata": {},
   "outputs": [
    {
     "name": "stdout",
     "output_type": "stream",
     "text": [
      "Mean:  118.5\n",
      "ST.D:  122.52188013212624\n"
     ]
    }
   ],
   "source": [
    "print('Mean: ',ramBrandTopTen.mean())\n",
    "print('ST.D: ',ramBrandTopTen.std())"
   ]
  },
  {
   "cell_type": "markdown",
   "metadata": {},
   "source": [
    "# Q2. What is the Top 5 Products from each Brand?"
   ]
  },
  {
   "cell_type": "code",
   "execution_count": 7,
   "metadata": {},
   "outputs": [
    {
     "data": {
      "text/html": [
       "<div>\n",
       "<style scoped>\n",
       "    .dataframe tbody tr th:only-of-type {\n",
       "        vertical-align: middle;\n",
       "    }\n",
       "\n",
       "    .dataframe tbody tr th {\n",
       "        vertical-align: top;\n",
       "    }\n",
       "\n",
       "    .dataframe thead th {\n",
       "        text-align: right;\n",
       "    }\n",
       "</style>\n",
       "<table border=\"1\" class=\"dataframe\">\n",
       "  <thead>\n",
       "    <tr style=\"text-align: right;\">\n",
       "      <th></th>\n",
       "      <th>Review #</th>\n",
       "      <th>Brand</th>\n",
       "      <th>Variety</th>\n",
       "      <th>Style</th>\n",
       "      <th>Country</th>\n",
       "      <th>Stars</th>\n",
       "    </tr>\n",
       "  </thead>\n",
       "  <tbody>\n",
       "    <tr>\n",
       "      <th>1340</th>\n",
       "      <td>2060</td>\n",
       "      <td>Nissin</td>\n",
       "      <td>Cup Noodle Light+ Cheese Fondue</td>\n",
       "      <td>Cup</td>\n",
       "      <td>Japan</td>\n",
       "      <td>5.0</td>\n",
       "    </tr>\n",
       "    <tr>\n",
       "      <th>1410</th>\n",
       "      <td>1990</td>\n",
       "      <td>Nissin</td>\n",
       "      <td>Cup Noodle</td>\n",
       "      <td>Cup</td>\n",
       "      <td>Japan</td>\n",
       "      <td>5.0</td>\n",
       "    </tr>\n",
       "    <tr>\n",
       "      <th>862</th>\n",
       "      <td>2538</td>\n",
       "      <td>Nissin</td>\n",
       "      <td>Cup Noodles Very Veggie Beef Flavor Ramen Nood...</td>\n",
       "      <td>Cup</td>\n",
       "      <td>United States</td>\n",
       "      <td>5.0</td>\n",
       "    </tr>\n",
       "    <tr>\n",
       "      <th>1316</th>\n",
       "      <td>2084</td>\n",
       "      <td>Nissin</td>\n",
       "      <td>Demae Ramen Straight Noodle Kyushu Tonkotsu In...</td>\n",
       "      <td>Pack</td>\n",
       "      <td>Hong Kong</td>\n",
       "      <td>5.0</td>\n",
       "    </tr>\n",
       "    <tr>\n",
       "      <th>859</th>\n",
       "      <td>2541</td>\n",
       "      <td>Nissin</td>\n",
       "      <td>Cup Noodles Very Veggie Spicy Chicken Flavor R...</td>\n",
       "      <td>Cup</td>\n",
       "      <td>United States</td>\n",
       "      <td>5.0</td>\n",
       "    </tr>\n",
       "  </tbody>\n",
       "</table>\n",
       "</div>"
      ],
      "text/plain": [
       "      Review #   Brand                                            Variety  \\\n",
       "1340      2060  Nissin                    Cup Noodle Light+ Cheese Fondue   \n",
       "1410      1990  Nissin                                         Cup Noodle   \n",
       "862       2538  Nissin  Cup Noodles Very Veggie Beef Flavor Ramen Nood...   \n",
       "1316      2084  Nissin  Demae Ramen Straight Noodle Kyushu Tonkotsu In...   \n",
       "859       2541  Nissin  Cup Noodles Very Veggie Spicy Chicken Flavor R...   \n",
       "\n",
       "     Style        Country  Stars  \n",
       "1340   Cup          Japan    5.0  \n",
       "1410   Cup          Japan    5.0  \n",
       "862    Cup  United States    5.0  \n",
       "1316  Pack      Hong Kong    5.0  \n",
       "859    Cup  United States    5.0  "
      ]
     },
     "execution_count": 7,
     "metadata": {},
     "output_type": "execute_result"
    }
   ],
   "source": [
    "#Top 5 Nissin Noodles from Nissin\n",
    "nissinBrand = ramen_data[ramen_data['Brand'] == 'Nissin']\n",
    "nissinBrand.sort_values(by = ['Stars'], ascending=False).head()"
   ]
  },
  {
   "cell_type": "code",
   "execution_count": 8,
   "metadata": {},
   "outputs": [
    {
     "data": {
      "text/html": [
       "<div>\n",
       "<style scoped>\n",
       "    .dataframe tbody tr th:only-of-type {\n",
       "        vertical-align: middle;\n",
       "    }\n",
       "\n",
       "    .dataframe tbody tr th {\n",
       "        vertical-align: top;\n",
       "    }\n",
       "\n",
       "    .dataframe thead th {\n",
       "        text-align: right;\n",
       "    }\n",
       "</style>\n",
       "<table border=\"1\" class=\"dataframe\">\n",
       "  <thead>\n",
       "    <tr style=\"text-align: right;\">\n",
       "      <th></th>\n",
       "      <th>Review #</th>\n",
       "      <th>Brand</th>\n",
       "      <th>Variety</th>\n",
       "      <th>Style</th>\n",
       "      <th>Country</th>\n",
       "      <th>Stars</th>\n",
       "    </tr>\n",
       "  </thead>\n",
       "  <tbody>\n",
       "    <tr>\n",
       "      <th>1328</th>\n",
       "      <td>2072</td>\n",
       "      <td>Maruchan</td>\n",
       "      <td>Bowl Taste Of Asia Beef Flavor Sukiyaki Ramen</td>\n",
       "      <td>Bowl</td>\n",
       "      <td>United States</td>\n",
       "      <td>5.0</td>\n",
       "    </tr>\n",
       "    <tr>\n",
       "      <th>724</th>\n",
       "      <td>2676</td>\n",
       "      <td>Maruchan</td>\n",
       "      <td>Bowl Taste Of Asia Tom Yum Ramen Noodle Soup</td>\n",
       "      <td>Bowl</td>\n",
       "      <td>United States</td>\n",
       "      <td>5.0</td>\n",
       "    </tr>\n",
       "    <tr>\n",
       "      <th>469</th>\n",
       "      <td>2931</td>\n",
       "      <td>Maruchan</td>\n",
       "      <td>Ramen Noodle Soup Creamy Chicken Flavor (New P...</td>\n",
       "      <td>Pack</td>\n",
       "      <td>United States</td>\n",
       "      <td>5.0</td>\n",
       "    </tr>\n",
       "    <tr>\n",
       "      <th>551</th>\n",
       "      <td>2849</td>\n",
       "      <td>Maruchan</td>\n",
       "      <td>Japanese Soba</td>\n",
       "      <td>Bowl</td>\n",
       "      <td>Japan</td>\n",
       "      <td>5.0</td>\n",
       "    </tr>\n",
       "    <tr>\n",
       "      <th>593</th>\n",
       "      <td>2807</td>\n",
       "      <td>Maruchan</td>\n",
       "      <td>Gotsumori Shio Wonton Ramen</td>\n",
       "      <td>Bowl</td>\n",
       "      <td>Japan</td>\n",
       "      <td>5.0</td>\n",
       "    </tr>\n",
       "  </tbody>\n",
       "</table>\n",
       "</div>"
      ],
      "text/plain": [
       "      Review #     Brand                                            Variety  \\\n",
       "1328      2072  Maruchan      Bowl Taste Of Asia Beef Flavor Sukiyaki Ramen   \n",
       "724       2676  Maruchan       Bowl Taste Of Asia Tom Yum Ramen Noodle Soup   \n",
       "469       2931  Maruchan  Ramen Noodle Soup Creamy Chicken Flavor (New P...   \n",
       "551       2849  Maruchan                                      Japanese Soba   \n",
       "593       2807  Maruchan                        Gotsumori Shio Wonton Ramen   \n",
       "\n",
       "     Style        Country  Stars  \n",
       "1328  Bowl  United States    5.0  \n",
       "724   Bowl  United States    5.0  \n",
       "469   Pack  United States    5.0  \n",
       "551   Bowl          Japan    5.0  \n",
       "593   Bowl          Japan    5.0  "
      ]
     },
     "execution_count": 8,
     "metadata": {},
     "output_type": "execute_result"
    }
   ],
   "source": [
    "#Top 5 Maruchan Noodles from Marucchan\n",
    "maruchanBrand = ramen_data[ramen_data['Brand'] == 'Maruchan']\n",
    "maruchanBrand.sort_values(by = ['Stars'], ascending=False).head()"
   ]
  },
  {
   "cell_type": "code",
   "execution_count": 9,
   "metadata": {},
   "outputs": [
    {
     "data": {
      "text/html": [
       "<div>\n",
       "<style scoped>\n",
       "    .dataframe tbody tr th:only-of-type {\n",
       "        vertical-align: middle;\n",
       "    }\n",
       "\n",
       "    .dataframe tbody tr th {\n",
       "        vertical-align: top;\n",
       "    }\n",
       "\n",
       "    .dataframe thead th {\n",
       "        text-align: right;\n",
       "    }\n",
       "</style>\n",
       "<table border=\"1\" class=\"dataframe\">\n",
       "  <thead>\n",
       "    <tr style=\"text-align: right;\">\n",
       "      <th></th>\n",
       "      <th>Review #</th>\n",
       "      <th>Brand</th>\n",
       "      <th>Variety</th>\n",
       "      <th>Style</th>\n",
       "      <th>Country</th>\n",
       "      <th>Stars</th>\n",
       "    </tr>\n",
       "  </thead>\n",
       "  <tbody>\n",
       "    <tr>\n",
       "      <th>63</th>\n",
       "      <td>3337</td>\n",
       "      <td>Nongshim</td>\n",
       "      <td>Fururu Cold Noodles</td>\n",
       "      <td>Pack</td>\n",
       "      <td>Japan</td>\n",
       "      <td>5.0</td>\n",
       "    </tr>\n",
       "    <tr>\n",
       "      <th>1573</th>\n",
       "      <td>1827</td>\n",
       "      <td>Nongshim</td>\n",
       "      <td>Zha Wang ((Jjawang) Noodles With Chajang Sauce</td>\n",
       "      <td>Pack</td>\n",
       "      <td>South Korea</td>\n",
       "      <td>5.0</td>\n",
       "    </tr>\n",
       "    <tr>\n",
       "      <th>1576</th>\n",
       "      <td>1824</td>\n",
       "      <td>Nongshim</td>\n",
       "      <td>Soon Veggie Noodle Soup</td>\n",
       "      <td>Cup</td>\n",
       "      <td>United States</td>\n",
       "      <td>5.0</td>\n",
       "    </tr>\n",
       "    <tr>\n",
       "      <th>1336</th>\n",
       "      <td>2064</td>\n",
       "      <td>Nongshim</td>\n",
       "      <td>Arrabiata Rice Bucatini</td>\n",
       "      <td>Pack</td>\n",
       "      <td>United States</td>\n",
       "      <td>5.0</td>\n",
       "    </tr>\n",
       "    <tr>\n",
       "      <th>1306</th>\n",
       "      <td>2094</td>\n",
       "      <td>Nongshim</td>\n",
       "      <td>Champong Noodle Soup Spicy Seafood Flavor</td>\n",
       "      <td>Pack</td>\n",
       "      <td>South Korea</td>\n",
       "      <td>5.0</td>\n",
       "    </tr>\n",
       "  </tbody>\n",
       "</table>\n",
       "</div>"
      ],
      "text/plain": [
       "      Review #     Brand                                         Variety  \\\n",
       "63        3337  Nongshim                             Fururu Cold Noodles   \n",
       "1573      1827  Nongshim  Zha Wang ((Jjawang) Noodles With Chajang Sauce   \n",
       "1576      1824  Nongshim                         Soon Veggie Noodle Soup   \n",
       "1336      2064  Nongshim                         Arrabiata Rice Bucatini   \n",
       "1306      2094  Nongshim       Champong Noodle Soup Spicy Seafood Flavor   \n",
       "\n",
       "     Style        Country  Stars  \n",
       "63    Pack          Japan    5.0  \n",
       "1573  Pack    South Korea    5.0  \n",
       "1576   Cup  United States    5.0  \n",
       "1336  Pack  United States    5.0  \n",
       "1306  Pack    South Korea    5.0  "
      ]
     },
     "execution_count": 9,
     "metadata": {},
     "output_type": "execute_result"
    }
   ],
   "source": [
    "#Top 5 Nongshim Noodles\n",
    "nongshimBrand = ramen_data[ramen_data['Brand'] == 'Nongshim']\n",
    "nongshimBrand.sort_values(by = ['Stars'], ascending = False).head()"
   ]
  },
  {
   "cell_type": "code",
   "execution_count": 10,
   "metadata": {},
   "outputs": [
    {
     "data": {
      "text/html": [
       "<div>\n",
       "<style scoped>\n",
       "    .dataframe tbody tr th:only-of-type {\n",
       "        vertical-align: middle;\n",
       "    }\n",
       "\n",
       "    .dataframe tbody tr th {\n",
       "        vertical-align: top;\n",
       "    }\n",
       "\n",
       "    .dataframe thead th {\n",
       "        text-align: right;\n",
       "    }\n",
       "</style>\n",
       "<table border=\"1\" class=\"dataframe\">\n",
       "  <thead>\n",
       "    <tr style=\"text-align: right;\">\n",
       "      <th></th>\n",
       "      <th>Review #</th>\n",
       "      <th>Brand</th>\n",
       "      <th>Variety</th>\n",
       "      <th>Style</th>\n",
       "      <th>Country</th>\n",
       "      <th>Stars</th>\n",
       "    </tr>\n",
       "  </thead>\n",
       "  <tbody>\n",
       "    <tr>\n",
       "      <th>656</th>\n",
       "      <td>2744</td>\n",
       "      <td>Myojo</td>\n",
       "      <td>Charumera Non-Fried Tonkotsu Ramen</td>\n",
       "      <td>Pack</td>\n",
       "      <td>Japan</td>\n",
       "      <td>5.0</td>\n",
       "    </tr>\n",
       "    <tr>\n",
       "      <th>378</th>\n",
       "      <td>3022</td>\n",
       "      <td>Myojo</td>\n",
       "      <td>Yakisoba Curry Flavor</td>\n",
       "      <td>Pack</td>\n",
       "      <td>United States</td>\n",
       "      <td>5.0</td>\n",
       "    </tr>\n",
       "    <tr>\n",
       "      <th>1542</th>\n",
       "      <td>1858</td>\n",
       "      <td>Myojo</td>\n",
       "      <td>Wantan Men</td>\n",
       "      <td>Bowl</td>\n",
       "      <td>Japan</td>\n",
       "      <td>5.0</td>\n",
       "    </tr>\n",
       "    <tr>\n",
       "      <th>599</th>\n",
       "      <td>2801</td>\n",
       "      <td>Myojo</td>\n",
       "      <td>Ippei-chan Yomise-no Yakisoba Barbeque Sauce F...</td>\n",
       "      <td>Tray</td>\n",
       "      <td>Japan</td>\n",
       "      <td>5.0</td>\n",
       "    </tr>\n",
       "    <tr>\n",
       "      <th>1522</th>\n",
       "      <td>1878</td>\n",
       "      <td>Myojo</td>\n",
       "      <td>Extra Spicy Singapore Curry Big Bowl</td>\n",
       "      <td>Bowl</td>\n",
       "      <td>Singapore</td>\n",
       "      <td>5.0</td>\n",
       "    </tr>\n",
       "  </tbody>\n",
       "</table>\n",
       "</div>"
      ],
      "text/plain": [
       "      Review #  Brand                                            Variety  \\\n",
       "656       2744  Myojo                 Charumera Non-Fried Tonkotsu Ramen   \n",
       "378       3022  Myojo                              Yakisoba Curry Flavor   \n",
       "1542      1858  Myojo                                         Wantan Men   \n",
       "599       2801  Myojo  Ippei-chan Yomise-no Yakisoba Barbeque Sauce F...   \n",
       "1522      1878  Myojo               Extra Spicy Singapore Curry Big Bowl   \n",
       "\n",
       "     Style        Country  Stars  \n",
       "656   Pack          Japan    5.0  \n",
       "378   Pack  United States    5.0  \n",
       "1542  Bowl          Japan    5.0  \n",
       "599   Tray          Japan    5.0  \n",
       "1522  Bowl      Singapore    5.0  "
      ]
     },
     "execution_count": 10,
     "metadata": {},
     "output_type": "execute_result"
    }
   ],
   "source": [
    "#Top 5 Myojo Noodles\n",
    "myojoBrand = ramen_data[ramen_data['Brand'] == 'Myojo']\n",
    "myojoBrand.sort_values(by = ['Stars'], ascending = False).head()"
   ]
  },
  {
   "cell_type": "code",
   "execution_count": 11,
   "metadata": {},
   "outputs": [
    {
     "data": {
      "text/html": [
       "<div>\n",
       "<style scoped>\n",
       "    .dataframe tbody tr th:only-of-type {\n",
       "        vertical-align: middle;\n",
       "    }\n",
       "\n",
       "    .dataframe tbody tr th {\n",
       "        vertical-align: top;\n",
       "    }\n",
       "\n",
       "    .dataframe thead th {\n",
       "        text-align: right;\n",
       "    }\n",
       "</style>\n",
       "<table border=\"1\" class=\"dataframe\">\n",
       "  <thead>\n",
       "    <tr style=\"text-align: right;\">\n",
       "      <th></th>\n",
       "      <th>Review #</th>\n",
       "      <th>Brand</th>\n",
       "      <th>Variety</th>\n",
       "      <th>Style</th>\n",
       "      <th>Country</th>\n",
       "      <th>Stars</th>\n",
       "    </tr>\n",
       "  </thead>\n",
       "  <tbody>\n",
       "    <tr>\n",
       "      <th>1426</th>\n",
       "      <td>1974</td>\n",
       "      <td>Samyang Foods</td>\n",
       "      <td>Cheese Curry Ramyun</td>\n",
       "      <td>Pack</td>\n",
       "      <td>South Korea</td>\n",
       "      <td>5.0</td>\n",
       "    </tr>\n",
       "    <tr>\n",
       "      <th>2100</th>\n",
       "      <td>1300</td>\n",
       "      <td>Samyang Foods</td>\n",
       "      <td>Red Nagasaki Jjampong</td>\n",
       "      <td>Pack</td>\n",
       "      <td>South Korea</td>\n",
       "      <td>5.0</td>\n",
       "    </tr>\n",
       "    <tr>\n",
       "      <th>850</th>\n",
       "      <td>2550</td>\n",
       "      <td>Samyang Foods</td>\n",
       "      <td>Paegaejang Ramen</td>\n",
       "      <td>Pack</td>\n",
       "      <td>South Korea</td>\n",
       "      <td>5.0</td>\n",
       "    </tr>\n",
       "    <tr>\n",
       "      <th>61</th>\n",
       "      <td>3339</td>\n",
       "      <td>Samyang Foods</td>\n",
       "      <td>Jjajang Buldak Ramen Topokki</td>\n",
       "      <td>Pack</td>\n",
       "      <td>South Korea</td>\n",
       "      <td>5.0</td>\n",
       "    </tr>\n",
       "    <tr>\n",
       "      <th>2371</th>\n",
       "      <td>1029</td>\n",
       "      <td>Samyang Foods</td>\n",
       "      <td>Nagasaki Crab Jjampong</td>\n",
       "      <td>Pack</td>\n",
       "      <td>South Korea</td>\n",
       "      <td>5.0</td>\n",
       "    </tr>\n",
       "  </tbody>\n",
       "</table>\n",
       "</div>"
      ],
      "text/plain": [
       "      Review #          Brand                       Variety Style  \\\n",
       "1426      1974  Samyang Foods           Cheese Curry Ramyun  Pack   \n",
       "2100      1300  Samyang Foods         Red Nagasaki Jjampong  Pack   \n",
       "850       2550  Samyang Foods              Paegaejang Ramen  Pack   \n",
       "61        3339  Samyang Foods  Jjajang Buldak Ramen Topokki  Pack   \n",
       "2371      1029  Samyang Foods        Nagasaki Crab Jjampong  Pack   \n",
       "\n",
       "          Country  Stars  \n",
       "1426  South Korea    5.0  \n",
       "2100  South Korea    5.0  \n",
       "850   South Korea    5.0  \n",
       "61    South Korea    5.0  \n",
       "2371  South Korea    5.0  "
      ]
     },
     "execution_count": 11,
     "metadata": {},
     "output_type": "execute_result"
    }
   ],
   "source": [
    "#Top 5 Samyang Noodles\n",
    "samyangBrand = ramen_data[ramen_data['Brand'] == 'Samyang Foods']\n",
    "samyangBrand.sort_values(by = ['Stars'], ascending = False).head()"
   ]
  },
  {
   "cell_type": "code",
   "execution_count": 12,
   "metadata": {},
   "outputs": [
    {
     "data": {
      "text/html": [
       "<div>\n",
       "<style scoped>\n",
       "    .dataframe tbody tr th:only-of-type {\n",
       "        vertical-align: middle;\n",
       "    }\n",
       "\n",
       "    .dataframe tbody tr th {\n",
       "        vertical-align: top;\n",
       "    }\n",
       "\n",
       "    .dataframe thead th {\n",
       "        text-align: right;\n",
       "    }\n",
       "</style>\n",
       "<table border=\"1\" class=\"dataframe\">\n",
       "  <thead>\n",
       "    <tr style=\"text-align: right;\">\n",
       "      <th></th>\n",
       "      <th>Review #</th>\n",
       "      <th>Brand</th>\n",
       "      <th>Variety</th>\n",
       "      <th>Style</th>\n",
       "      <th>Country</th>\n",
       "      <th>Stars</th>\n",
       "    </tr>\n",
       "  </thead>\n",
       "  <tbody>\n",
       "    <tr>\n",
       "      <th>2</th>\n",
       "      <td>3398</td>\n",
       "      <td>Paldo</td>\n",
       "      <td>King Lid Ramen Noodle Soup</td>\n",
       "      <td>Pack</td>\n",
       "      <td>South Korea</td>\n",
       "      <td>5.0</td>\n",
       "    </tr>\n",
       "    <tr>\n",
       "      <th>1180</th>\n",
       "      <td>2220</td>\n",
       "      <td>Paldo</td>\n",
       "      <td>Budae Jjigae</td>\n",
       "      <td>Pack</td>\n",
       "      <td>South Korea</td>\n",
       "      <td>5.0</td>\n",
       "    </tr>\n",
       "    <tr>\n",
       "      <th>2726</th>\n",
       "      <td>674</td>\n",
       "      <td>Paldo</td>\n",
       "      <td>Kko Kko Myun</td>\n",
       "      <td>Pack</td>\n",
       "      <td>South Korea</td>\n",
       "      <td>5.0</td>\n",
       "    </tr>\n",
       "    <tr>\n",
       "      <th>2577</th>\n",
       "      <td>823</td>\n",
       "      <td>Paldo</td>\n",
       "      <td>Kokomen Spicy Chicken</td>\n",
       "      <td>Pack</td>\n",
       "      <td>South Korea</td>\n",
       "      <td>5.0</td>\n",
       "    </tr>\n",
       "    <tr>\n",
       "      <th>2576</th>\n",
       "      <td>824</td>\n",
       "      <td>Paldo</td>\n",
       "      <td>Bibim Men Cucumber</td>\n",
       "      <td>Pack</td>\n",
       "      <td>South Korea</td>\n",
       "      <td>5.0</td>\n",
       "    </tr>\n",
       "  </tbody>\n",
       "</table>\n",
       "</div>"
      ],
      "text/plain": [
       "      Review #  Brand                     Variety Style      Country  Stars\n",
       "2         3398  Paldo  King Lid Ramen Noodle Soup  Pack  South Korea    5.0\n",
       "1180      2220  Paldo                Budae Jjigae  Pack  South Korea    5.0\n",
       "2726       674  Paldo                Kko Kko Myun  Pack  South Korea    5.0\n",
       "2577       823  Paldo       Kokomen Spicy Chicken  Pack  South Korea    5.0\n",
       "2576       824  Paldo          Bibim Men Cucumber  Pack  South Korea    5.0"
      ]
     },
     "execution_count": 12,
     "metadata": {},
     "output_type": "execute_result"
    }
   ],
   "source": [
    "#Top 5 Paldo Noodles\n",
    "paldoBrand = ramen_data[ramen_data['Brand'] == 'Paldo']\n",
    "paldoBrand.sort_values(by = ['Stars'], ascending = False).head()"
   ]
  },
  {
   "cell_type": "code",
   "execution_count": 13,
   "metadata": {},
   "outputs": [
    {
     "data": {
      "text/html": [
       "<div>\n",
       "<style scoped>\n",
       "    .dataframe tbody tr th:only-of-type {\n",
       "        vertical-align: middle;\n",
       "    }\n",
       "\n",
       "    .dataframe tbody tr th {\n",
       "        vertical-align: top;\n",
       "    }\n",
       "\n",
       "    .dataframe thead th {\n",
       "        text-align: right;\n",
       "    }\n",
       "</style>\n",
       "<table border=\"1\" class=\"dataframe\">\n",
       "  <thead>\n",
       "    <tr style=\"text-align: right;\">\n",
       "      <th></th>\n",
       "      <th>Review #</th>\n",
       "      <th>Brand</th>\n",
       "      <th>Variety</th>\n",
       "      <th>Style</th>\n",
       "      <th>Country</th>\n",
       "      <th>Stars</th>\n",
       "    </tr>\n",
       "  </thead>\n",
       "  <tbody>\n",
       "    <tr>\n",
       "      <th>2098</th>\n",
       "      <td>1302</td>\n",
       "      <td>Mama</td>\n",
       "      <td>Instant Noodles Yentafo Tom Yum Mohfai Flavour</td>\n",
       "      <td>Pack</td>\n",
       "      <td>Thailand</td>\n",
       "      <td>5.0</td>\n",
       "    </tr>\n",
       "    <tr>\n",
       "      <th>1669</th>\n",
       "      <td>1731</td>\n",
       "      <td>Mama</td>\n",
       "      <td>Instant Noodles Creamy Shrimp Tom Yum Flavour</td>\n",
       "      <td>Pack</td>\n",
       "      <td>Cambodia</td>\n",
       "      <td>5.0</td>\n",
       "    </tr>\n",
       "    <tr>\n",
       "      <th>1775</th>\n",
       "      <td>1625</td>\n",
       "      <td>Mama</td>\n",
       "      <td>Instant Rice Noodle Soup Spicy Shrimp Flavour</td>\n",
       "      <td>Bowl</td>\n",
       "      <td>Thailand</td>\n",
       "      <td>5.0</td>\n",
       "    </tr>\n",
       "    <tr>\n",
       "      <th>1927</th>\n",
       "      <td>1473</td>\n",
       "      <td>Mama</td>\n",
       "      <td>Instant Cup Noodles Shrimp Tom Yum Flavour (Ex...</td>\n",
       "      <td>Cup</td>\n",
       "      <td>Thailand</td>\n",
       "      <td>5.0</td>\n",
       "    </tr>\n",
       "    <tr>\n",
       "      <th>1738</th>\n",
       "      <td>1662</td>\n",
       "      <td>Mama</td>\n",
       "      <td>Non-Fried Instant Noodles Ramen Tonkotsu Flavor</td>\n",
       "      <td>Pack</td>\n",
       "      <td>Thailand</td>\n",
       "      <td>5.0</td>\n",
       "    </tr>\n",
       "  </tbody>\n",
       "</table>\n",
       "</div>"
      ],
      "text/plain": [
       "      Review # Brand                                            Variety Style  \\\n",
       "2098      1302  Mama     Instant Noodles Yentafo Tom Yum Mohfai Flavour  Pack   \n",
       "1669      1731  Mama      Instant Noodles Creamy Shrimp Tom Yum Flavour  Pack   \n",
       "1775      1625  Mama      Instant Rice Noodle Soup Spicy Shrimp Flavour  Bowl   \n",
       "1927      1473  Mama  Instant Cup Noodles Shrimp Tom Yum Flavour (Ex...   Cup   \n",
       "1738      1662  Mama    Non-Fried Instant Noodles Ramen Tonkotsu Flavor  Pack   \n",
       "\n",
       "       Country  Stars  \n",
       "2098  Thailand    5.0  \n",
       "1669  Cambodia    5.0  \n",
       "1775  Thailand    5.0  \n",
       "1927  Thailand    5.0  \n",
       "1738  Thailand    5.0  "
      ]
     },
     "execution_count": 13,
     "metadata": {},
     "output_type": "execute_result"
    }
   ],
   "source": [
    "#Top 5 Mama Noodles\n",
    "mamaBrand = ramen_data[ramen_data['Brand'] == 'Mama']\n",
    "mamaBrand.sort_values(by = ['Stars'], ascending = False).head()"
   ]
  },
  {
   "cell_type": "code",
   "execution_count": 14,
   "metadata": {},
   "outputs": [
    {
     "data": {
      "text/html": [
       "<div>\n",
       "<style scoped>\n",
       "    .dataframe tbody tr th:only-of-type {\n",
       "        vertical-align: middle;\n",
       "    }\n",
       "\n",
       "    .dataframe tbody tr th {\n",
       "        vertical-align: top;\n",
       "    }\n",
       "\n",
       "    .dataframe thead th {\n",
       "        text-align: right;\n",
       "    }\n",
       "</style>\n",
       "<table border=\"1\" class=\"dataframe\">\n",
       "  <thead>\n",
       "    <tr style=\"text-align: right;\">\n",
       "      <th></th>\n",
       "      <th>Review #</th>\n",
       "      <th>Brand</th>\n",
       "      <th>Variety</th>\n",
       "      <th>Style</th>\n",
       "      <th>Country</th>\n",
       "      <th>Stars</th>\n",
       "    </tr>\n",
       "  </thead>\n",
       "  <tbody>\n",
       "    <tr>\n",
       "      <th>392</th>\n",
       "      <td>3008</td>\n",
       "      <td>Indomie</td>\n",
       "      <td>Real Meat Mi Instan Goreng Rendang</td>\n",
       "      <td>Box</td>\n",
       "      <td>Indonesia</td>\n",
       "      <td>5.0</td>\n",
       "    </tr>\n",
       "    <tr>\n",
       "      <th>2537</th>\n",
       "      <td>863</td>\n",
       "      <td>Indomie</td>\n",
       "      <td>Special Fried Curly Noodle (Local)</td>\n",
       "      <td>Pack</td>\n",
       "      <td>Indonesia</td>\n",
       "      <td>5.0</td>\n",
       "    </tr>\n",
       "    <tr>\n",
       "      <th>3355</th>\n",
       "      <td>45</td>\n",
       "      <td>Indomie</td>\n",
       "      <td>Mi Goreng Sate</td>\n",
       "      <td>Pack</td>\n",
       "      <td>Indonesia</td>\n",
       "      <td>5.0</td>\n",
       "    </tr>\n",
       "    <tr>\n",
       "      <th>3353</th>\n",
       "      <td>47</td>\n",
       "      <td>Indomie</td>\n",
       "      <td>Mi Goreng Jumbo Barbecue Chicken</td>\n",
       "      <td>Pack</td>\n",
       "      <td>Indonesia</td>\n",
       "      <td>5.0</td>\n",
       "    </tr>\n",
       "    <tr>\n",
       "      <th>3350</th>\n",
       "      <td>50</td>\n",
       "      <td>Indomie</td>\n",
       "      <td>Mi Goreng</td>\n",
       "      <td>Pack</td>\n",
       "      <td>Indonesia</td>\n",
       "      <td>5.0</td>\n",
       "    </tr>\n",
       "  </tbody>\n",
       "</table>\n",
       "</div>"
      ],
      "text/plain": [
       "      Review #    Brand                             Variety Style    Country  \\\n",
       "392       3008  Indomie  Real Meat Mi Instan Goreng Rendang   Box  Indonesia   \n",
       "2537       863  Indomie  Special Fried Curly Noodle (Local)  Pack  Indonesia   \n",
       "3355        45  Indomie                      Mi Goreng Sate  Pack  Indonesia   \n",
       "3353        47  Indomie    Mi Goreng Jumbo Barbecue Chicken  Pack  Indonesia   \n",
       "3350        50  Indomie                           Mi Goreng  Pack  Indonesia   \n",
       "\n",
       "      Stars  \n",
       "392     5.0  \n",
       "2537    5.0  \n",
       "3355    5.0  \n",
       "3353    5.0  \n",
       "3350    5.0  "
      ]
     },
     "execution_count": 14,
     "metadata": {},
     "output_type": "execute_result"
    }
   ],
   "source": [
    "#Top 5 Indomie Noodles\n",
    "indomieBrand = ramen_data[ramen_data['Brand'] == 'Indomie']\n",
    "indomieBrand.sort_values(by = ['Stars'], ascending = False).head()"
   ]
  },
  {
   "cell_type": "code",
   "execution_count": 15,
   "metadata": {},
   "outputs": [
    {
     "data": {
      "text/html": [
       "<div>\n",
       "<style scoped>\n",
       "    .dataframe tbody tr th:only-of-type {\n",
       "        vertical-align: middle;\n",
       "    }\n",
       "\n",
       "    .dataframe tbody tr th {\n",
       "        vertical-align: top;\n",
       "    }\n",
       "\n",
       "    .dataframe thead th {\n",
       "        text-align: right;\n",
       "    }\n",
       "</style>\n",
       "<table border=\"1\" class=\"dataframe\">\n",
       "  <thead>\n",
       "    <tr style=\"text-align: right;\">\n",
       "      <th></th>\n",
       "      <th>Review #</th>\n",
       "      <th>Brand</th>\n",
       "      <th>Variety</th>\n",
       "      <th>Style</th>\n",
       "      <th>Country</th>\n",
       "      <th>Stars</th>\n",
       "    </tr>\n",
       "  </thead>\n",
       "  <tbody>\n",
       "    <tr>\n",
       "      <th>2162</th>\n",
       "      <td>1238</td>\n",
       "      <td>Sapporo Ichiban</td>\n",
       "      <td>Sesame Ramen</td>\n",
       "      <td>Pack</td>\n",
       "      <td>Japan</td>\n",
       "      <td>5.0</td>\n",
       "    </tr>\n",
       "    <tr>\n",
       "      <th>3387</th>\n",
       "      <td>13</td>\n",
       "      <td>Sapporo Ichiban</td>\n",
       "      <td>Chow Mein</td>\n",
       "      <td>Pack</td>\n",
       "      <td>Japan</td>\n",
       "      <td>5.0</td>\n",
       "    </tr>\n",
       "    <tr>\n",
       "      <th>1525</th>\n",
       "      <td>1875</td>\n",
       "      <td>Sapporo Ichiban</td>\n",
       "      <td>Tonkotsu Ramen Artificially Flavored Tonkotsu ...</td>\n",
       "      <td>Pack</td>\n",
       "      <td>United States</td>\n",
       "      <td>5.0</td>\n",
       "    </tr>\n",
       "    <tr>\n",
       "      <th>1851</th>\n",
       "      <td>1549</td>\n",
       "      <td>Sapporo Ichiban</td>\n",
       "      <td>Chow Mein Japanese Style Noodles Yakisoba</td>\n",
       "      <td>Pack</td>\n",
       "      <td>Canada</td>\n",
       "      <td>5.0</td>\n",
       "    </tr>\n",
       "    <tr>\n",
       "      <th>2748</th>\n",
       "      <td>652</td>\n",
       "      <td>Sapporo Ichiban</td>\n",
       "      <td>Shio</td>\n",
       "      <td>Pack</td>\n",
       "      <td>Japan</td>\n",
       "      <td>5.0</td>\n",
       "    </tr>\n",
       "  </tbody>\n",
       "</table>\n",
       "</div>"
      ],
      "text/plain": [
       "      Review #            Brand  \\\n",
       "2162      1238  Sapporo Ichiban   \n",
       "3387        13  Sapporo Ichiban   \n",
       "1525      1875  Sapporo Ichiban   \n",
       "1851      1549  Sapporo Ichiban   \n",
       "2748       652  Sapporo Ichiban   \n",
       "\n",
       "                                                Variety Style        Country  \\\n",
       "2162                                       Sesame Ramen  Pack          Japan   \n",
       "3387                                          Chow Mein  Pack          Japan   \n",
       "1525  Tonkotsu Ramen Artificially Flavored Tonkotsu ...  Pack  United States   \n",
       "1851          Chow Mein Japanese Style Noodles Yakisoba  Pack         Canada   \n",
       "2748                                               Shio  Pack          Japan   \n",
       "\n",
       "      Stars  \n",
       "2162    5.0  \n",
       "3387    5.0  \n",
       "1525    5.0  \n",
       "1851    5.0  \n",
       "2748    5.0  "
      ]
     },
     "execution_count": 15,
     "metadata": {},
     "output_type": "execute_result"
    }
   ],
   "source": [
    "#Top 5 Sapporo Noodles\n",
    "sapporoBrand = ramen_data[ramen_data['Brand'] == 'Sapporo Ichiban']\n",
    "sapporoBrand.sort_values(by = ['Stars'], ascending = False).head()"
   ]
  },
  {
   "cell_type": "code",
   "execution_count": 16,
   "metadata": {},
   "outputs": [
    {
     "data": {
      "text/html": [
       "<div>\n",
       "<style scoped>\n",
       "    .dataframe tbody tr th:only-of-type {\n",
       "        vertical-align: middle;\n",
       "    }\n",
       "\n",
       "    .dataframe tbody tr th {\n",
       "        vertical-align: top;\n",
       "    }\n",
       "\n",
       "    .dataframe thead th {\n",
       "        text-align: right;\n",
       "    }\n",
       "</style>\n",
       "<table border=\"1\" class=\"dataframe\">\n",
       "  <thead>\n",
       "    <tr style=\"text-align: right;\">\n",
       "      <th></th>\n",
       "      <th>Review #</th>\n",
       "      <th>Brand</th>\n",
       "      <th>Variety</th>\n",
       "      <th>Style</th>\n",
       "      <th>Country</th>\n",
       "      <th>Stars</th>\n",
       "    </tr>\n",
       "  </thead>\n",
       "  <tbody>\n",
       "    <tr>\n",
       "      <th>756</th>\n",
       "      <td>2644</td>\n",
       "      <td>Ottogi</td>\n",
       "      <td>Budae Jjigae Ramen</td>\n",
       "      <td>Pack</td>\n",
       "      <td>South Korea</td>\n",
       "      <td>5.00</td>\n",
       "    </tr>\n",
       "    <tr>\n",
       "      <th>1009</th>\n",
       "      <td>2391</td>\n",
       "      <td>Ottogi</td>\n",
       "      <td>Jin Jjambbong Spicy Seafood Ramyun</td>\n",
       "      <td>Pack</td>\n",
       "      <td>South Korea</td>\n",
       "      <td>5.00</td>\n",
       "    </tr>\n",
       "    <tr>\n",
       "      <th>2425</th>\n",
       "      <td>975</td>\n",
       "      <td>Ottogi</td>\n",
       "      <td>Spaghetti Ramen</td>\n",
       "      <td>Bowl</td>\n",
       "      <td>South Korea</td>\n",
       "      <td>4.50</td>\n",
       "    </tr>\n",
       "    <tr>\n",
       "      <th>2864</th>\n",
       "      <td>536</td>\n",
       "      <td>Ottogi</td>\n",
       "      <td>Yeul Ramyun</td>\n",
       "      <td>Pack</td>\n",
       "      <td>South Korea</td>\n",
       "      <td>4.25</td>\n",
       "    </tr>\n",
       "    <tr>\n",
       "      <th>926</th>\n",
       "      <td>2474</td>\n",
       "      <td>Ottogi</td>\n",
       "      <td>Ppushu Ppushu Noodle Snack Chilli Cheese Flavor</td>\n",
       "      <td>Pack</td>\n",
       "      <td>South Korea</td>\n",
       "      <td>4.25</td>\n",
       "    </tr>\n",
       "  </tbody>\n",
       "</table>\n",
       "</div>"
      ],
      "text/plain": [
       "      Review #   Brand                                          Variety Style  \\\n",
       "756       2644  Ottogi                               Budae Jjigae Ramen  Pack   \n",
       "1009      2391  Ottogi               Jin Jjambbong Spicy Seafood Ramyun  Pack   \n",
       "2425       975  Ottogi                                  Spaghetti Ramen  Bowl   \n",
       "2864       536  Ottogi                                      Yeul Ramyun  Pack   \n",
       "926       2474  Ottogi  Ppushu Ppushu Noodle Snack Chilli Cheese Flavor  Pack   \n",
       "\n",
       "          Country  Stars  \n",
       "756   South Korea   5.00  \n",
       "1009  South Korea   5.00  \n",
       "2425  South Korea   4.50  \n",
       "2864  South Korea   4.25  \n",
       "926   South Korea   4.25  "
      ]
     },
     "execution_count": 16,
     "metadata": {},
     "output_type": "execute_result"
    }
   ],
   "source": [
    "#Top 5 Ottogi Noodles\n",
    "ottogiBrand = ramen_data[ramen_data['Brand'] == 'Ottogi']\n",
    "ottogiBrand.sort_values(by = ['Stars'], ascending = False).head()\n"
   ]
  },
  {
   "cell_type": "markdown",
   "metadata": {},
   "source": [
    "# Q3.  What is the Average Rating of each Brand?"
   ]
  },
  {
   "cell_type": "markdown",
   "metadata": {},
   "source": [
    "The subplot of each Brand Rating Distribution fall between 3.5 to 4.0 stars. However, in some of the brands such as Ottogi there is a large spike in the graph which may be attributed to some form of bias or lack of data."
   ]
  },
  {
   "cell_type": "code",
   "execution_count": 17,
   "metadata": {},
   "outputs": [
    {
     "data": {
      "image/png": "[encoded data removed]",
      "text/plain": [
       "<Figure size 1080x360 with 10 Axes>"
      ]
     },
     "metadata": {
      "needs_background": "light"
     },
     "output_type": "display_data"
    }
   ],
   "source": [
    "#Display 2 x 5 plots of rating distribution for each brand noodles\n",
    "fig,ax =plt.subplots(2,5,figsize=(15,5))\n",
    "\n",
    "plt.suptitle('Rating Distribution of Brands of Noodles', y=1.05, size=16)\n",
    "plt.sca(ax[0][0])\n",
    "seaborn.distplot(nissinBrand['Stars'], color = 'b')\n",
    "plt.xlabel('Ratings')\n",
    "plt.title('Nissin')\n",
    "\n",
    "plt.sca(ax[0][1])\n",
    "seaborn.distplot(maruchanBrand['Stars'], color = 'darkorange')\n",
    "plt.xlabel('Ratings')\n",
    "plt.title('Maruchan')\n",
    "\n",
    "plt.sca(ax[0][2])\n",
    "seaborn.distplot(nongshimBrand['Stars'], color = 'g')\n",
    "plt.xlabel('Ratings')\n",
    "plt.title('Nongshim')\n",
    "\n",
    "plt.sca(ax[0][3])\n",
    "seaborn.distplot(myojoBrand['Stars'], color = 'r')\n",
    "plt.xlabel('Ratings')\n",
    "plt.title('Myojo')\n",
    "\n",
    "plt.sca(ax[0][4])\n",
    "seaborn.distplot(samyangBrand['Stars'], color = 'mediumpurple')\n",
    "plt.xlabel('Ratings')\n",
    "plt.title('Samyang')\n",
    "\n",
    "plt.sca(ax[1][0])\n",
    "seaborn.distplot(paldoBrand['Stars'], color = 'saddlebrown')\n",
    "plt.xlabel('Ratings')\n",
    "plt.title('Paldo')\n",
    "\n",
    "plt.sca(ax[1][1])\n",
    "seaborn.distplot(mamaBrand['Stars'], color = 'orchid')\n",
    "plt.xlabel('Ratings')\n",
    "plt.title('Mama')\n",
    "\n",
    "plt.sca(ax[1][2])\n",
    "seaborn.distplot(indomieBrand['Stars'], color = 'grey')\n",
    "plt.xlabel('Ratings')\n",
    "plt.title('Indomie')\n",
    "\n",
    "plt.sca(ax[1][3])\n",
    "seaborn.distplot(sapporoBrand['Stars'], color = 'y')\n",
    "plt.xlabel('Ratings')\n",
    "plt.title('Sapporo Ichiban')\n",
    "\n",
    "plt.sca(ax[1][4])\n",
    "seaborn.distplot(ottogiBrand['Stars'], color = 'c')\n",
    "plt.xlabel('Ratings')\n",
    "plt.title('Ottogi')\n",
    "\n",
    "plt.tight_layout()"
   ]
  },
  {
   "cell_type": "code",
   "execution_count": 18,
   "metadata": {},
   "outputs": [
    {
     "name": "stdout",
     "output_type": "stream",
     "text": [
      "Nissin\n",
      "Mean:  3.9057065217391305\n",
      "ST.D:  0.7986926209685531\n",
      " \n",
      "Maruchan\n",
      "Mean:  3.6010416666666667\n",
      "ST.D:  1.0080161679695194\n",
      " \n",
      "Nongshim\n",
      "Mean:  3.6010416666666667\n",
      "ST.D:  1.0080161679695194\n",
      " \n",
      "Myojo\n",
      "Mean:  3.8463541666666665\n",
      "ST.D:  0.8836004333844532\n",
      " \n",
      "Samyang\n",
      "Mean:  4.095108695652174\n",
      "ST.D:  0.7539660623796391\n",
      " \n",
      "Paldo\n",
      "Mean:  4.016447368421052\n",
      "ST.D:  0.837740538905881\n",
      " \n",
      "Mama\n",
      "Mean:  3.6288732394366194\n",
      "ST.D:  0.9803301911612295\n",
      " \n",
      "Indomie\n",
      "Mean:  4.089285714285714\n",
      "ST.D:  0.9515878732515882\n",
      " \n",
      "Sapporo Ichiban\n",
      "Mean:  3.7824074074074074\n",
      "ST.D:  0.8619940357565962\n",
      " \n",
      "Ottogi\n",
      "Mean:  3.4148936170212765\n",
      "ST.D:  0.871275607422133\n"
     ]
    }
   ],
   "source": [
    "# Print out the mean & standard deviation of each brand\n",
    "print('Nissin')\n",
    "print('Mean: ', nissinBrand['Stars'].mean())\n",
    "print('ST.D: ', nissinBrand['Stars'].std())\n",
    "print(' ')\n",
    "print('Maruchan')\n",
    "print('Mean: ', maruchanBrand['Stars'].mean())\n",
    "print('ST.D: ', maruchanBrand['Stars'].std())\n",
    "print(' ')\n",
    "print('Nongshim')\n",
    "print('Mean: ', maruchanBrand['Stars'].mean())\n",
    "print('ST.D: ', maruchanBrand['Stars'].std())\n",
    "print(' ')\n",
    "print('Myojo')\n",
    "print('Mean: ', myojoBrand['Stars'].mean())\n",
    "print('ST.D: ', myojoBrand['Stars'].std())\n",
    "print(' ')\n",
    "print('Samyang')\n",
    "print('Mean: ', samyangBrand['Stars'].mean())\n",
    "print('ST.D: ', samyangBrand['Stars'].std())\n",
    "print(' ')\n",
    "print('Paldo')\n",
    "print('Mean: ', paldoBrand['Stars'].mean())\n",
    "print('ST.D: ', paldoBrand['Stars'].std())\n",
    "print(' ')\n",
    "print('Mama')\n",
    "print('Mean: ', mamaBrand['Stars'].mean())\n",
    "print('ST.D: ', mamaBrand['Stars'].std())\n",
    "print(' ')\n",
    "print('Indomie')\n",
    "print('Mean: ', indomieBrand['Stars'].mean())\n",
    "print('ST.D: ', indomieBrand['Stars'].std())\n",
    "print(' ')\n",
    "print('Sapporo Ichiban')\n",
    "print('Mean: ', sapporoBrand['Stars'].mean())\n",
    "print('ST.D: ', sapporoBrand['Stars'].std())\n",
    "print(' ')\n",
    "print('Ottogi')\n",
    "print('Mean: ', ottogiBrand['Stars'].mean())\n",
    "print('ST.D: ', ottogiBrand['Stars'].std())"
   ]
  },
  {
   "cell_type": "markdown",
   "metadata": {},
   "source": [
    "# Q4. What is the Average Rating for each Style of Noodle?"
   ]
  },
  {
   "cell_type": "markdown",
   "metadata": {},
   "source": [
    "In order to determine the average rating of each style of noodle, we must verify the types of styles contained in the data. Since styles such as box, restaurant, can, and bar, does not contain sufficient data, we must omit them as they may skew the data. The main style of focus would be packs, bowls, cups, and trays. In the rating for the distribution of styles of noodles, the styles of noodles all follow a similar distribution. However, since tray has a fairly lower sample size compared to pack, bowl, and cups, the graph may not be as accurate, as it can be portrayed that Tray is not a fairly popular style of noodle."
   ]
  },
  {
   "cell_type": "code",
   "execution_count": 19,
   "metadata": {},
   "outputs": [
    {
     "data": {
      "text/plain": [
       "array(['Cup', 'Pack', 'Bowl', 'Tray', 'Box', 'Restaurant', 'Can', 'Bar'],\n",
       "      dtype=object)"
      ]
     },
     "execution_count": 19,
     "metadata": {},
     "output_type": "execute_result"
    }
   ],
   "source": [
    "#Check for the Number of Styles for each Noodles\n",
    "ramen_data['Style'].unique()"
   ]
  },
  {
   "cell_type": "code",
   "execution_count": 20,
   "metadata": {},
   "outputs": [
    {
     "data": {
      "text/plain": [
       "Pack          1942\n",
       "Bowl           655\n",
       "Cup            593\n",
       "Tray           151\n",
       "Box             48\n",
       "Restaurant       3\n",
       "Bar              1\n",
       "Can              1\n",
       "Name: Style, dtype: int64"
      ]
     },
     "execution_count": 20,
     "metadata": {},
     "output_type": "execute_result"
    }
   ],
   "source": [
    "ramen_data['Style'].value_counts()"
   ]
  },
  {
   "cell_type": "code",
   "execution_count": 21,
   "metadata": {},
   "outputs": [],
   "source": [
    "#Separate each Style of Ramen into their Respective Categories\n",
    "cupStyle = ramen_data[ramen_data['Style'] == 'Cup']\n",
    "packStyle = ramen_data[ramen_data['Style'] == 'Pack']\n",
    "bowlStyle = ramen_data[ramen_data['Style'] == 'Bowl']\n",
    "trayStyle = ramen_data[ramen_data['Style'] == 'Tray']"
   ]
  },
  {
   "cell_type": "code",
   "execution_count": 22,
   "metadata": {},
   "outputs": [
    {
     "data": {
      "image/png": "[encoded data removed]",
      "text/plain": [
       "<Figure size 720x360 with 4 Axes>"
      ]
     },
     "metadata": {
      "needs_background": "light"
     },
     "output_type": "display_data"
    }
   ],
   "source": [
    "#Display 2 x 2 plots of rating distribution for each Style of noodles\n",
    "fig,ax =plt.subplots(2,2, figsize = (10,5))\n",
    "plt.suptitle('Distribution Rating of Styles of Noodles', y = 1.05, size = 16)\n",
    "\n",
    "plt.sca(ax[0][0])\n",
    "seaborn.distplot(cupStyle['Stars'], color = 'red')\n",
    "plt.xlabel('Ratings')\n",
    "plt.title('Cup Rating')\n",
    "\n",
    "plt.sca(ax[0][1])\n",
    "seaborn.distplot(packStyle['Stars'], color = 'gold')\n",
    "plt.xlabel('Ratings')\n",
    "plt.title('Pack Rating')\n",
    "\n",
    "plt.sca(ax[1][0])\n",
    "seaborn.distplot(bowlStyle['Stars'], color = 'dodgerblue')\n",
    "plt.xlabel('Ratings')\n",
    "plt.title('Bowl Rating')\n",
    "\n",
    "plt.sca(ax[1][1])\n",
    "seaborn.distplot(trayStyle['Stars'], color = 'slateblue')\n",
    "plt.xlabel('Ratings')\n",
    "plt.title('Tray Rating')\n",
    "\n",
    "plt.tight_layout()"
   ]
  },
  {
   "cell_type": "markdown",
   "metadata": {},
   "source": [
    "# Q5. Which Product Style is Popular among each Brand?"
   ]
  },
  {
   "cell_type": "markdown",
   "metadata": {},
   "source": [
    "In the graph, the style that is the most popular among each brand is pack. Meanwhile tray is the least popular style among many brands and even some brands do not manufacture this style. Cup and bowl are also heavily emphasized between brands such as Nissin, Sapporo Ichiban, and Maruchan, as they produce more cups and bowls than packs."
   ]
  },
  {
   "cell_type": "code",
   "execution_count": 23,
   "metadata": {},
   "outputs": [
    {
     "data": {
      "image/png": "[encoded data removed]",
      "text/plain": [
       "<Figure size 1080x360 with 10 Axes>"
      ]
     },
     "metadata": {
      "needs_background": "light"
     },
     "output_type": "display_data"
    }
   ],
   "source": [
    "#Display 2 x 5 plots of distribution for each brand noodles\n",
    "fig,ax = plt.subplots(2,5,figsize = (15,5))\n",
    "fig.text(0.5, -0.01, 'Styles', ha = 'center', fontsize = 14)\n",
    "fig.text(-0.005, .5, 'Number of Products', va = 'center', rotation = 'vertical', fontsize = 14)\n",
    "plt.suptitle('Number of Products for each Style', y = 1.05, size = 16)\n",
    "\n",
    "\n",
    "plt.sca(ax[0][0])\n",
    "seaborn.barplot(x = nissinBrand['Style'].value_counts().sort_index().index, y = nissinBrand['Style'].value_counts().sort_index(), palette = 'pastel')\n",
    "plt.ylabel(' ')\n",
    "plt.title('Nissin')\n",
    "\n",
    "plt.sca(ax[0][1])\n",
    "seaborn.barplot(x = maruchanBrand['Style'].value_counts().sort_index().index, y = maruchanBrand['Style'].value_counts().sort_index(), palette = 'pastel')\n",
    "plt.ylabel(' ')\n",
    "plt.title('Maruchan')\n",
    "\n",
    "plt.sca(ax[0][2])\n",
    "seaborn.barplot(x = myojoBrand['Style'].value_counts().sort_index().index, y = nongshimBrand['Style'].value_counts().sort_index(), palette = 'pastel')\n",
    "plt.ylabel(' ')\n",
    "plt.title('Nongshim')\n",
    "\n",
    "plt.sca(ax[0][3])\n",
    "seaborn.barplot(x = myojoBrand['Style'].value_counts().sort_index().index, y = myojoBrand['Style'].value_counts().sort_index(), palette = 'pastel')\n",
    "plt.ylabel(' ')\n",
    "plt.title('Myojo')\n",
    "\n",
    "plt.sca(ax[0][4])\n",
    "seaborn.barplot(x = samyangBrand['Style'].value_counts().sort_index().index, y = samyangBrand['Style'].value_counts().sort_index(), palette = 'pastel')\n",
    "plt.ylabel(' ')\n",
    "plt.title('Samyang')\n",
    "\n",
    "plt.sca(ax[1][0])\n",
    "seaborn.barplot(x = paldoBrand['Style'].value_counts().sort_index().index, y = paldoBrand['Style'].value_counts().sort_index(), palette = 'pastel')\n",
    "plt.ylabel(' ')\n",
    "plt.title('Paldo')\n",
    "\n",
    "plt.sca(ax[1][1])\n",
    "seaborn.barplot(x = mamaBrand['Style'].value_counts().sort_index().index, y = mamaBrand['Style'].value_counts().sort_index(), palette = 'pastel')\n",
    "plt.ylabel(' ')\n",
    "plt.title('Mama')\n",
    "\n",
    "plt.sca(ax[1][2])\n",
    "seaborn.barplot(x = indomieBrand['Style'].value_counts().sort_index().index, y = indomieBrand['Style'].value_counts().sort_index(), palette = 'pastel')\n",
    "plt.ylabel(' ')\n",
    "plt.title('Indomie')\n",
    "\n",
    "plt.sca(ax[1][3])\n",
    "seaborn.barplot(x = sapporoBrand['Style'].value_counts().sort_index().index, y = sapporoBrand['Style'].value_counts().sort_index(), palette = 'pastel')\n",
    "plt.ylabel(' ')\n",
    "plt.title('Sapporo Ichiban')\n",
    "\n",
    "plt.sca(ax[1][4])\n",
    "seaborn.barplot(x = ottogiBrand['Style'].value_counts().sort_index().index, y = ottogiBrand['Style'].value_counts().sort_index(), palette = 'pastel')\n",
    "plt.ylabel(' ')\n",
    "plt.title('Ottogi')\n",
    "\n",
    "\n",
    "plt.tight_layout()\n"
   ]
  },
  {
   "cell_type": "markdown",
   "metadata": {},
   "source": [
    "# Q6. Which Style of Noodles is Popular among Countries for each Brand?"
   ]
  },
  {
   "cell_type": "markdown",
   "metadata": {},
   "source": [
    "In Japan and U.S. there is a demand for all styles of noodles, while other countries such as South Korea, Singapore, Thailand, etc., put a heavy emphasis on pack noodles. Brands that export noodles to Japan, such as Nissin, Sapporo Ichiban, Maruchan, and Myojo, usually tailor their styles towards cup and bowl noodles. Meanwhile in the U.S. also has a high demand of cup and bowl noodles from Nissin and Nongshim. By comparing of each graph, it is observed that countries in Asia have a large import of packs of noodles from brands with the exception of Japan, which favours bowls and cups."
   ]
  },
  {
   "cell_type": "code",
   "execution_count": 24,
   "metadata": {},
   "outputs": [
    {
     "data": {
      "text/plain": [
       "Country   Style\n",
       "Brazil    Cup      2\n",
       "          Pack     5\n",
       "China     Cup      3\n",
       "Colombia  Cup      3\n",
       "          Pack     3\n",
       "Name: Variety, dtype: int64"
      ]
     },
     "execution_count": 24,
     "metadata": {},
     "output_type": "execute_result"
    }
   ],
   "source": [
    "#Display the Countries which import each style of noodles for Nissin\n",
    "nbc = nissinBrand.groupby(['Country','Style']).count()['Variety']\n",
    "nbc.head()"
   ]
  },
  {
   "cell_type": "code",
   "execution_count": 25,
   "metadata": {},
   "outputs": [
    {
     "data": {
      "text/plain": [
       "Country        Style\n",
       "Japan          Bowl     28\n",
       "               Cup      11\n",
       "               Pack     12\n",
       "               Tray      4\n",
       "Mexico         Pack      2\n",
       "United States  Bowl      9\n",
       "               Cup      17\n",
       "               Pack     22\n",
       "               Tray     15\n",
       "Name: Variety, dtype: int64"
      ]
     },
     "execution_count": 25,
     "metadata": {},
     "output_type": "execute_result"
    }
   ],
   "source": [
    "#Display the Countries which import each style of noodles for Maruchan\n",
    "mc = maruchanBrand.groupby(['Country','Style']).count()['Variety']\n",
    "mc"
   ]
  },
  {
   "cell_type": "code",
   "execution_count": 26,
   "metadata": {},
   "outputs": [
    {
     "data": {
      "text/plain": [
       "Country        Style\n",
       "China          Bowl      5\n",
       "               Cup       1\n",
       "               Pack      3\n",
       "Japan          Cup       1\n",
       "               Pack      1\n",
       "South Korea    Bowl      8\n",
       "               Cup      13\n",
       "               Pack     38\n",
       "               Tray      2\n",
       "United States  Bowl     20\n",
       "               Cup       7\n",
       "               Pack     14\n",
       "Name: Variety, dtype: int64"
      ]
     },
     "execution_count": 26,
     "metadata": {},
     "output_type": "execute_result"
    }
   ],
   "source": [
    "#Display the Countries which import each style of noodles for Nongshim\n",
    "nsc = nongshimBrand.groupby(['Country','Style']).count()['Variety']\n",
    "nsc"
   ]
  },
  {
   "cell_type": "code",
   "execution_count": 27,
   "metadata": {},
   "outputs": [
    {
     "data": {
      "text/plain": [
       "Country        Style\n",
       "Japan          Bowl     22\n",
       "               Cup       7\n",
       "               Pack     23\n",
       "               Tray     17\n",
       "Singapore      Bowl      5\n",
       "               Pack     14\n",
       "United States  Bowl      4\n",
       "               Pack      4\n",
       "Name: Variety, dtype: int64"
      ]
     },
     "execution_count": 27,
     "metadata": {},
     "output_type": "execute_result"
    }
   ],
   "source": [
    "#Display the Countries which import each style of noodles for Myojo\n",
    "mc = myojoBrand.groupby(['Country','Style']).count()['Variety']\n",
    "mc"
   ]
  },
  {
   "cell_type": "code",
   "execution_count": 28,
   "metadata": {},
   "outputs": [
    {
     "data": {
      "text/plain": [
       "Country      Style\n",
       "Japan        Cup       2\n",
       "South Korea  Bowl     28\n",
       "             Cup       6\n",
       "             Pack     56\n",
       "Name: Variety, dtype: int64"
      ]
     },
     "execution_count": 28,
     "metadata": {},
     "output_type": "execute_result"
    }
   ],
   "source": [
    "#Display the Countries which import each style of noodles for Samyang\n",
    "syc = samyangBrand.groupby(['Country','Style']).count()['Variety']\n",
    "syc"
   ]
  },
  {
   "cell_type": "code",
   "execution_count": 29,
   "metadata": {},
   "outputs": [
    {
     "data": {
      "text/plain": [
       "Country     Style\n",
       "Bangladesh  Pack      4\n",
       "Cambodia    Pack      4\n",
       "Myanmar     Cup       2\n",
       "            Pack      3\n",
       "Thailand    Bowl      4\n",
       "            Cup      17\n",
       "            Pack     37\n",
       "Name: Variety, dtype: int64"
      ]
     },
     "execution_count": 29,
     "metadata": {},
     "output_type": "execute_result"
    }
   ],
   "source": [
    "#Display the Countries which import each style of noodles for Mama\n",
    "mac = mamaBrand.groupby(['Country','Style']).count()['Variety']\n",
    "mac"
   ]
  },
  {
   "cell_type": "code",
   "execution_count": 30,
   "metadata": {},
   "outputs": [
    {
     "data": {
      "text/plain": [
       "Country    Style\n",
       "Indonesia  Box       1\n",
       "           Cup       6\n",
       "           Pack     47\n",
       "Nigeria    Pack      2\n",
       "Name: Variety, dtype: int64"
      ]
     },
     "execution_count": 30,
     "metadata": {},
     "output_type": "execute_result"
    }
   ],
   "source": [
    "#Display the Countries which import each style of noodles for Indomie\n",
    "inc = indomieBrand.groupby(['Country','Style']).count()['Variety']\n",
    "inc"
   ]
  },
  {
   "cell_type": "code",
   "execution_count": 31,
   "metadata": {},
   "outputs": [
    {
     "data": {
      "text/plain": [
       "Country        Style\n",
       "Canada         Pack      1\n",
       "Japan          Bowl     13\n",
       "               Cup      16\n",
       "               Pack      7\n",
       "               Tray      4\n",
       "United States  Bowl      1\n",
       "               Cup       4\n",
       "               Pack      8\n",
       "Name: Variety, dtype: int64"
      ]
     },
     "execution_count": 31,
     "metadata": {},
     "output_type": "execute_result"
    }
   ],
   "source": [
    "#Display the Countries which import each style of noodles for Sapporo Ichiban\n",
    "sic = sapporoBrand.groupby(['Country','Style']).count()['Variety']\n",
    "sic"
   ]
  },
  {
   "cell_type": "code",
   "execution_count": 32,
   "metadata": {},
   "outputs": [
    {
     "data": {
      "text/plain": [
       "Country      Style\n",
       "Mexico       Pack      4\n",
       "South Korea  Bowl      8\n",
       "             Cup       7\n",
       "             Pack     28\n",
       "Name: Variety, dtype: int64"
      ]
     },
     "execution_count": 32,
     "metadata": {},
     "output_type": "execute_result"
    }
   ],
   "source": [
    "#Display the Countries which import each style of noodles for Ottogi\n",
    "oc = ottogiBrand.groupby(['Country','Style']).count()['Variety']\n",
    "oc"
   ]
  },
  {
   "cell_type": "code",
   "execution_count": 33,
   "metadata": {},
   "outputs": [
    {
     "data": {
      "image/png": "[encoded data removed]",
      "text/plain": [
       "<Figure size 720x1440 with 10 Axes>"
      ]
     },
     "metadata": {
      "needs_background": "light"
     },
     "output_type": "display_data"
    }
   ],
   "source": [
    "#Display 2 x 5 plots of distribution for each brand noodles\n",
    "fig,ax = plt.subplots(5, 2, figsize=(10,20))\n",
    "fig.text(0.5, -0.01, 'Styles', ha = 'center', fontsize = 14)\n",
    "fig.text(-0.005, .5, 'Number of Products', va = 'center', rotation = 'vertical', fontsize = 14)\n",
    "plt.suptitle('Style of Imported Noodles for each Brand', y = 1.01, size = 16)\n",
    "\n",
    "\n",
    "\n",
    "plt.sca(ax[0][0])\n",
    "seaborn.countplot(x = nissinBrand['Country'], hue = nissinBrand['Style'].sort_values(), data = nissinBrand, palette = 'pastel')\n",
    "plt.xticks(rotation = 'vertical')\n",
    "plt.ylabel(' ')\n",
    "plt.legend(loc = 'upper right')\n",
    "plt.title('Nissin')\n",
    "\n",
    "\n",
    "plt.sca(ax[0][1])\n",
    "seaborn.countplot(x = maruchanBrand['Country'], hue = maruchanBrand['Style'].sort_values(), data = maruchanBrand,palette = 'pastel')\n",
    "plt.xticks(rotation = 'vertical')\n",
    "plt.ylabel(' ')\n",
    "plt.legend(loc = 'upper right')\n",
    "plt.title('Maruchan')\n",
    "\n",
    "plt.sca(ax[1][0])\n",
    "seaborn.countplot(x = nongshimBrand['Country'], hue = nongshimBrand['Style'].sort_values(), data = nongshimBrand, palette = 'pastel')\n",
    "plt.xticks(rotation = 'vertical')\n",
    "plt.ylabel(' ')\n",
    "plt.legend(loc = 'upper right')\n",
    "plt.title('Nongshim')\n",
    "\n",
    "plt.sca(ax[1][1])\n",
    "seaborn.countplot(x = myojoBrand['Country'], hue = myojoBrand['Style'].sort_values(), data = myojoBrand, palette = 'pastel')\n",
    "plt.xticks(rotation = 'vertical')\n",
    "plt.ylabel(' ')\n",
    "plt.legend(loc = 'upper right')\n",
    "plt.title('Myojo')\n",
    "\n",
    "plt.sca(ax[2][0])\n",
    "seaborn.countplot(x = samyangBrand['Country'], hue = samyangBrand['Style'].sort_values(), data = samyangBrand, palette = 'pastel')\n",
    "plt.xticks(rotation = 'vertical')\n",
    "plt.ylabel(' ')\n",
    "plt.legend(loc = 'upper right')\n",
    "plt.title('Samyang')\n",
    "\n",
    "plt.sca(ax[2][1])\n",
    "seaborn.countplot(x = paldoBrand['Country'], hue = paldoBrand['Style'].sort_values(), data = paldoBrand, palette = 'pastel')\n",
    "plt.xticks(rotation = 'vertical')\n",
    "plt.ylabel(' ')\n",
    "plt.legend(loc = 'upper right')\n",
    "plt.title('Paldo')\n",
    "\n",
    "plt.sca(ax[3][0])\n",
    "seaborn.countplot(x = mamaBrand['Country'], hue = mamaBrand['Style'].sort_values(), data = mamaBrand, palette = 'pastel')\n",
    "plt.xticks(rotation = 'vertical')\n",
    "plt.ylabel(' ')\n",
    "plt.legend(loc = 'upper left')\n",
    "plt.title('Mama')\n",
    "\n",
    "plt.sca(ax[3][1])\n",
    "seaborn.countplot(x = indomieBrand['Country'], hue = indomieBrand['Style'].sort_values(), data = indomieBrand, palette = 'pastel')\n",
    "plt.xticks(rotation = 'vertical')\n",
    "plt.ylabel(' ')\n",
    "plt.legend(loc = 'upper right')\n",
    "plt.title('Indomie')\n",
    "\n",
    "plt.sca(ax[4][0])\n",
    "seaborn.countplot(x = sapporoBrand['Country'], hue = sapporoBrand['Style'].sort_values(), data = sapporoBrand, palette = 'pastel')\n",
    "plt.xticks(rotation = 'vertical')\n",
    "plt.ylabel(' ')\n",
    "plt.legend(loc = 'upper right')\n",
    "plt.title('Sapporo')\n",
    "\n",
    "plt.sca(ax[4][1])\n",
    "seaborn.countplot(x = ottogiBrand['Country'], hue = ottogiBrand['Style'].sort_values(), data = ottogiBrand, palette = 'pastel')\n",
    "plt.xticks(rotation = 'vertical')\n",
    "plt.ylabel(' ')\n",
    "plt.legend(loc = 'upper right')\n",
    "plt.title('Ottogi')\n",
    "\n",
    "\n",
    "plt.tight_layout()"
   ]
  },
  {
   "cell_type": "markdown",
   "metadata": {},
   "source": [
    "# Final Observation "
   ]
  },
  {
   "cell_type": "markdown",
   "metadata": {},
   "source": [
    "The data set itself is very fulfilling as it serves its purpose of giving the user a simple and clean review of each product, each product’s origin, the brand, and each brand’s rating. However, due to the nature of the dataset being too simple, there is a limit on the number of findings that can be observed from the data. Since the data has one review per product, the ratings for the data may occasionally be skewed or limited. As there are instances where one Brand for example, such as Nissin has received many 5-star ratings. Furthermore, there are also some styles of products which have only been reviewed once, such as bar style noodles, which was then omitted from the set as it had insufficient information. The selected data also had brands that contained less than 10 products, which makes it very difficult to observe since they may skew the data. A solution to minimize this problem was to obtain data that contained more than 30 products, and consequently perform observations using the top 10 data. Overall, the data is fun and entertaining since it gives users a quick summary of which noodles one can recommend to other noodle enthusiasts!"
   ]
  }
 ],
 "metadata": {
  "kernelspec": {
   "display_name": "Python 3",
   "language": "python",
   "name": "python3"
  },
  "language_info": {
   "codemirror_mode": {
    "name": "ipython",
    "version": 3
   },
   "file_extension": ".py",
   "mimetype": "text/x-python",
   "name": "python",
   "nbconvert_exporter": "python",
   "pygments_lexer": "ipython3",
   "version": "3.7.6"
  }
 },
 "nbformat": 4,
 "nbformat_minor": 2
}
